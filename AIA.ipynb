import pandas as pd
import numpy as np
import matlotlib.pyplot as plt
%matplotlib inline
